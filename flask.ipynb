{
 "cells": [
  {
   "cell_type": "code",
   "execution_count": null,
   "id": "be9ba7f8-1ad8-4628-8f1e-3f7ecef51c77",
   "metadata": {},
   "outputs": [],
   "source": [
    "Framework? >> collection of multiple package \n",
    "\n",
    "web framework >> collections of multiple packages that will enable to write web application. \n",
    "\n",
    "\n",
    "FLASK  >> Web application framework written in python. \n",
    "        1. werkzeug WSGI [Web Server Gateway Interface] >> this take care of request and response. \n",
    "        2. Jinji2 template >> Web template for you web pages.  \n",
    "\n",
    "        \n"
   ]
  },
  {
   "cell_type": "markdown",
   "id": "3e49aaf6-547a-489a-a1c2-a3da0f572ced",
   "metadata": {},
   "source": [
    "Flask is micro framework.  >> flask does not have built, abstraction layer, validations and other support for that we need to itegrate extension. \n",
    "\n",
    "Django full web framework. "
   ]
  },
  {
   "cell_type": "code",
   "execution_count": null,
   "id": "19a0c7b3-5893-4f79-b1f8-7ebfb857b14d",
   "metadata": {},
   "outputs": [],
   "source": [
    "## Syntax for basic flask app\n",
    "\n",
    "\n",
    "from flask import Flask\n",
    "\n",
    "app = Flask(__name__)\n",
    "\n",
    "@app.route('/')\n",
    "def one():\n",
    "    return \"API\"\n",
    "\n",
    "if __name__ == \"__main__\":\n",
    "    app.run()\n"
   ]
  }
 ],
 "metadata": {
  "kernelspec": {
   "display_name": "Python 3 (ipykernel)",
   "language": "python",
   "name": "python3"
  },
  "language_info": {
   "codemirror_mode": {
    "name": "ipython",
    "version": 3
   },
   "file_extension": ".py",
   "mimetype": "text/x-python",
   "name": "python",
   "nbconvert_exporter": "python",
   "pygments_lexer": "ipython3",
   "version": "3.9.7"
  }
 },
 "nbformat": 4,
 "nbformat_minor": 5
}
